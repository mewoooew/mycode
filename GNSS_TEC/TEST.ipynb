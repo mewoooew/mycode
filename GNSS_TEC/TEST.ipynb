{
 "cells": [
  {
   "cell_type": "code",
   "execution_count": 1,
   "id": "33c0fd91",
   "metadata": {},
   "outputs": [],
   "source": [
    "import datetime"
   ]
  },
  {
   "cell_type": "code",
   "execution_count": 5,
   "id": "82232ab0",
   "metadata": {},
   "outputs": [
    {
     "data": {
      "text/plain": [
       "'218'"
      ]
     },
     "execution_count": 5,
     "metadata": {},
     "output_type": "execute_result"
    }
   ],
   "source": [
    "seisemday = datetime.date(year = 2023, month = 8, day = 6 )\n",
    "seisemday.strftime('%j')"
   ]
  },
  {
   "cell_type": "code",
   "execution_count": 7,
   "id": "e54862d6",
   "metadata": {},
   "outputs": [
    {
     "data": {
      "text/plain": [
       "'212'"
      ]
     },
     "execution_count": 7,
     "metadata": {},
     "output_type": "execute_result"
    }
   ],
   "source": [
    "startday = datetime.date(year = 2023, month = 7, day = 31 )\n",
    "startday.strftime('%j')"
   ]
  },
  {
   "cell_type": "code",
   "execution_count": 8,
   "id": "44083776",
   "metadata": {},
   "outputs": [
    {
     "data": {
      "text/plain": [
       "'225'"
      ]
     },
     "execution_count": 8,
     "metadata": {},
     "output_type": "execute_result"
    }
   ],
   "source": [
    "endday = datetime.date(year = 2023, month = 8, day = 13 )\n",
    "endday.strftime('%j')"
   ]
  },
  {
   "cell_type": "code",
   "execution_count": 2,
   "id": "8e5e7c67",
   "metadata": {},
   "outputs": [],
   "source": [
    "import numpy as np"
   ]
  },
  {
   "cell_type": "code",
   "execution_count": 12,
   "id": "0717e595",
   "metadata": {},
   "outputs": [
    {
     "data": {
      "text/plain": [
       "214.7131984983551"
      ]
     },
     "execution_count": 12,
     "metadata": {},
     "output_type": "execute_result"
    }
   ],
   "source": [
    "(6778* np.cos(np.radians(27)) * np.radians(1))*(120-98)/3/60/60*1000"
   ]
  },
  {
   "cell_type": "code",
   "execution_count": null,
   "id": "85fe4261",
   "metadata": {},
   "outputs": [],
   "source": []
  }
 ],
 "metadata": {
  "kernelspec": {
   "display_name": "Python [conda env:.conda-datanalysis] *",
   "language": "python",
   "name": "conda-env-.conda-datanalysis-py"
  },
  "language_info": {
   "codemirror_mode": {
    "name": "ipython",
    "version": 3
   },
   "file_extension": ".py",
   "mimetype": "text/x-python",
   "name": "python",
   "nbconvert_exporter": "python",
   "pygments_lexer": "ipython3",
   "version": "3.11.4"
  },
  "toc": {
   "base_numbering": 1,
   "nav_menu": {},
   "number_sections": true,
   "sideBar": true,
   "skip_h1_title": false,
   "title_cell": "Table of Contents",
   "title_sidebar": "Contents",
   "toc_cell": false,
   "toc_position": {},
   "toc_section_display": true,
   "toc_window_display": false
  },
  "varInspector": {
   "cols": {
    "lenName": 16,
    "lenType": 16,
    "lenVar": 40
   },
   "kernels_config": {
    "python": {
     "delete_cmd_postfix": "",
     "delete_cmd_prefix": "del ",
     "library": "var_list.py",
     "varRefreshCmd": "print(var_dic_list())"
    },
    "r": {
     "delete_cmd_postfix": ") ",
     "delete_cmd_prefix": "rm(",
     "library": "var_list.r",
     "varRefreshCmd": "cat(var_dic_list()) "
    }
   },
   "types_to_exclude": [
    "module",
    "function",
    "builtin_function_or_method",
    "instance",
    "_Feature"
   ],
   "window_display": false
  }
 },
 "nbformat": 4,
 "nbformat_minor": 5
}
