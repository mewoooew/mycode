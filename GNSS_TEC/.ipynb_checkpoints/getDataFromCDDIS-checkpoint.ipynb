{
 "cells": [
  {
   "cell_type": "code",
   "execution_count": null,
   "id": "9b0f9a29",
   "metadata": {},
   "outputs": [],
   "source": [
    "# -*- coding: utf-8 -*-\n",
    "# @Time    : 2022/1/3 14:21\n",
    "# @Author  : xymeng\n",
    "# @FileName: 000-i.py 下载I文件专用程序\n",
    "# @Software: PyCharm\n",
    "'''\n",
    "url = https://cddis.nasa.gov/archive/gnss/products/ionex/2021/004/igsg0040.21i.Z\n",
    "url = 'https://cddis.nasa.gov/archive/gnss/products/ionex/2021/'+doy+'/'+'igsg'+doy+str(0)+'.21i.Z'\n",
    "'''\n",
    "\n",
    "from selenium import webdriver\n",
    "from selenium.webdriver.edge.service import Service\n",
    "import time\n",
    "from selenium.webdriver.common.by import By\n",
    "\n",
    "s = Service(\"E:\\edgedriver_win64\\msedgedriver.exe\") #这里写本地的msedge的所在路径\n",
    "driver = webdriver.Edge(service=s)\n",
    "driver.get(\"https://urs.earthdata.nasa.gov/oauth/authorize?client_id=gDQnv1IO0j9O2xXdwS8KMQ&response_type=code&redirect_uri=https%3A%2F%2Fcddis.nasa.gov%2Fproxyauth&state=aHR0cDovL2NkZGlzLm5hc2EuZ292L2FyY2hpdmUv\") #该处为具体网址\n",
    "driver.refresh() #刷新页面\n",
    "driver.maximize_window() #浏览器最大化\n",
    "driver.find_element(By.ID,'username').send_keys('用户名')\n",
    "driver.find_element(By.ID,'password').send_keys('密码')\n",
    "time.sleep(0.5)\n",
    "driver.find_element(By.NAME,'commit').click()\n",
    "driver.get('https://cddis.nasa.gov/archive/')\n",
    "time.sleep(10)\n",
    "driver.find_element(By.ID,'gnss').click()\n",
    "driver.find_element(By.ID,'products').click()\n",
    "driver.find_element(By.ID,'ionex').click()\n",
    "driver.find_element(By.ID,'2019').click()\n",
    "for doy in range(93,365):\n",
    "    doy = str(doy)\n",
    "    doy = doy.zfill(3)\n",
    "    driver.find_element(By.ID, doy).click()\n",
    "    driver.find_element(By.ID, 'igsg'+doy+str(0)+'.19i.Z').click()\n",
    "    driver.back()\n",
    "    time.sleep(10)\n",
    "\n"
   ]
  }
 ],
 "metadata": {
  "kernelspec": {
   "display_name": "Python [conda env:.conda-datanalysis] *",
   "language": "python",
   "name": "conda-env-.conda-datanalysis-py"
  },
  "language_info": {
   "codemirror_mode": {
    "name": "ipython",
    "version": 3
   },
   "file_extension": ".py",
   "mimetype": "text/x-python",
   "name": "python",
   "nbconvert_exporter": "python",
   "pygments_lexer": "ipython3",
   "version": "3.11.4"
  },
  "toc": {
   "base_numbering": 1,
   "nav_menu": {},
   "number_sections": true,
   "sideBar": true,
   "skip_h1_title": false,
   "title_cell": "Table of Contents",
   "title_sidebar": "Contents",
   "toc_cell": false,
   "toc_position": {},
   "toc_section_display": true,
   "toc_window_display": false
  },
  "varInspector": {
   "cols": {
    "lenName": 16,
    "lenType": 16,
    "lenVar": 40
   },
   "kernels_config": {
    "python": {
     "delete_cmd_postfix": "",
     "delete_cmd_prefix": "del ",
     "library": "var_list.py",
     "varRefreshCmd": "print(var_dic_list())"
    },
    "r": {
     "delete_cmd_postfix": ") ",
     "delete_cmd_prefix": "rm(",
     "library": "var_list.r",
     "varRefreshCmd": "cat(var_dic_list()) "
    }
   },
   "types_to_exclude": [
    "module",
    "function",
    "builtin_function_or_method",
    "instance",
    "_Feature"
   ],
   "window_display": false
  }
 },
 "nbformat": 4,
 "nbformat_minor": 5
}
